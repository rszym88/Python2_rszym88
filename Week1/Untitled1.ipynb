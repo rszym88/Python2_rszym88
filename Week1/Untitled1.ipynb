{
 "cells": [
  {
   "cell_type": "code",
   "execution_count": 98,
   "metadata": {},
   "outputs": [],
   "source": [
    "import csv\n",
    "file = 'studentInfoCSV.csv'\n",
    "studentInfo0 = {}\n",
    "iconData0 = ''\n",
    "iconData = []\n",
    "def printHeaderRows():\n",
    "    with open(file) as csvFile:\n",
    "        dReader = csv.DictReader(csvFile)\n",
    "        headers = dReader.fieldnames\n",
    "        #print(headers)\n",
    "        for a in dReader:\n",
    "            for b in a:\n",
    "                if b != 'userNamer':\n",
    "                    studentInfo0.update({b: a[b]}) \n",
    "                    print(b, ': ', a[b])\n",
    "                if b == 'iconData':\n",
    "                    tmp = a[b]\n",
    "                    print(tmp[1:-1])\n",
    "                    iconData0 = tmp[1:-1]\n",
    "                \n",
    "                \n",
    "                    \n",
    "                \n",
    "                print(studentInfo0)\n",
    "            studentInfo0.pop('iconData')\n",
    "            studentInfo0[\"iconData\"] = iconData0\n",
    "            print(studentInfo0)\n",
    "            print(studentInfo0)"
   ]
  },
  {
   "cell_type": "code",
   "execution_count": 97,
   "metadata": {},
   "outputs": [
    {
     "name": "stdout",
     "output_type": "stream",
     "text": [
      "firstName :  Rob\n",
      "{'firstName': 'Rob'}\n"
     ]
    },
    {
     "ename": "KeyError",
     "evalue": "'iconData'",
     "output_type": "error",
     "traceback": [
      "\u001b[1;31m---------------------------------------------------------------------------\u001b[0m",
      "\u001b[1;31mKeyError\u001b[0m                                  Traceback (most recent call last)",
      "\u001b[1;32m<ipython-input-97-9e386006eca5>\u001b[0m in \u001b[0;36m<module>\u001b[1;34m\u001b[0m\n\u001b[1;32m----> 1\u001b[1;33m \u001b[0mprintHeaderRows\u001b[0m\u001b[1;33m(\u001b[0m\u001b[1;33m)\u001b[0m\u001b[1;33m\u001b[0m\u001b[1;33m\u001b[0m\u001b[0m\n\u001b[0m",
      "\u001b[1;32m<ipython-input-93-9977cf7d43e4>\u001b[0m in \u001b[0;36mprintHeaderRows\u001b[1;34m()\u001b[0m\n\u001b[0;32m     23\u001b[0m \u001b[1;33m\u001b[0m\u001b[0m\n\u001b[0;32m     24\u001b[0m                 \u001b[0mprint\u001b[0m\u001b[1;33m(\u001b[0m\u001b[0mstudentInfo0\u001b[0m\u001b[1;33m)\u001b[0m\u001b[1;33m\u001b[0m\u001b[1;33m\u001b[0m\u001b[0m\n\u001b[1;32m---> 25\u001b[1;33m                 \u001b[0mstudentInfo0\u001b[0m\u001b[1;33m.\u001b[0m\u001b[0mpop\u001b[0m\u001b[1;33m(\u001b[0m\u001b[1;34m'iconData'\u001b[0m\u001b[1;33m)\u001b[0m\u001b[1;33m\u001b[0m\u001b[1;33m\u001b[0m\u001b[0m\n\u001b[0m\u001b[0;32m     26\u001b[0m                 \u001b[0mprint\u001b[0m\u001b[1;33m(\u001b[0m\u001b[0mstudentInfo0\u001b[0m\u001b[1;33m)\u001b[0m\u001b[1;33m\u001b[0m\u001b[1;33m\u001b[0m\u001b[0m\n\u001b[0;32m     27\u001b[0m \u001b[1;33m\u001b[0m\u001b[0m\n",
      "\u001b[1;31mKeyError\u001b[0m: 'iconData'"
     ]
    }
   ],
   "source": [
    "printHeaderRows()"
   ]
  },
  {
   "cell_type": "code",
   "execution_count": null,
   "metadata": {},
   "outputs": [],
   "source": []
  }
 ],
 "metadata": {
  "kernelspec": {
   "display_name": "Python 3",
   "language": "python",
   "name": "python3"
  },
  "language_info": {
   "codemirror_mode": {
    "name": "ipython",
    "version": 3
   },
   "file_extension": ".py",
   "mimetype": "text/x-python",
   "name": "python",
   "nbconvert_exporter": "python",
   "pygments_lexer": "ipython3",
   "version": "3.7.1"
  }
 },
 "nbformat": 4,
 "nbformat_minor": 4
}

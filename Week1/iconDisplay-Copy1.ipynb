{
 "cells": [
  {
   "cell_type": "markdown",
   "metadata": {},
   "source": [
    "# Student Icon Generator\n",
    "## Introduction\n",
    "The first python program we are going to write is the base to a project we will be working on over the next couple weeks.  We will be learning how to take our basic 10x10 image and turn it into a list then to print that pattern out on our console.  Once we're successfull in printing the icon we generated on to our display, we will go ahead and attach some basic information about yourself and save it all in a dictionary and then dump in into a JSON file.  \n",
    "\n"
   ]
  },
  {
   "cell_type": "markdown",
   "metadata": {},
   "source": [
    "#### Open Your Favorite Python IDE......\n",
    "Create a new python file and name it iconDisplay_(rszym88) (your ID here).  Start by inserting a block comment that lays out the file details...."
   ]
  },
  {
   "cell_type": "code",
   "execution_count": 26,
   "metadata": {},
   "outputs": [
    {
     "name": "stdout",
     "output_type": "stream",
     "text": [
      "----------------------------------------------\n",
      " WELCOME TO THE SZYMANSKI SSSOFTWARE GRIZZOUP \n",
      "----------------------------------------------\n",
      ".............Icon Display v0.1................\n",
      "----------------------------------------------\n",
      "1: Enter Icon Data:\n",
      "2: Display Icon Image:\n",
      "3: Rotate Icon Image:\n",
      "4: Flip Icon Image:\n",
      "5: Add Student Info:\n",
      "6: Dump Into JSON:\n"
     ]
    }
   ],
   "source": [
    "#iconDisplay_rszym88.py \n",
    "#Created: April 14th, 2020\n",
    "#Author: @rszym88\n",
    "#DAT-129: Python 2\n",
    "\n",
    "#Script Guide:\n",
    "#1. This program will display an icon based on an encoded file that will \n",
    "#re-create the icon we drew up for ourself in class\n",
    "#2. Using this list we coded our icon to we will then turn it into a ductionary \n",
    "#by added a few variables about ourself.  \n",
    "#3. We will add a User Interface that will allow us to select various options \n",
    "#that relate to different aspects of the icon display project\n",
    "#4. Lastly, we will enter all our data in a google sheet online and once\n",
    "#the entire class has uploaded their data wew will downlaod the CSV file of the online sheet\n",
    "#Then we will process each entry and store it in a JSON file that we dump all the CSV info to.  \n",
    "#5. This JSON file will be our class directory...every students name/username, basic contact info,\n",
    "#iconlist, link to git repo?\n",
    "###\n",
    "import json\n",
    "import os\n",
    "\n",
    "print(\"----------------------------------------------\")\n",
    "print(\" WELCOME TO THE SZYMANSKI SSSOFTWARE GRIZZOUP \")\n",
    "print(\"----------------------------------------------\")\n",
    "print(\".............Icon Display v0.1................\")\n",
    "print(\"----------------------------------------------\")\n",
    "print(\"1: Enter Icon Data:\")\n",
    "print(\"2: Display Icon Image:\")\n",
    "print(\"3: Rotate Icon Image:\")\n",
    "print(\"4: Flip Icon Image:\")\n",
    "print(\"5: Add Student Info:\")\n",
    "print(\"6: Dump Into JSON:\")\n",
    "\n"
   ]
  },
  {
   "cell_type": "markdown",
   "metadata": {},
   "source": []
  },
  {
   "cell_type": "code",
   "execution_count": null,
   "metadata": {},
   "outputs": [],
   "source": []
  }
 ],
 "metadata": {
  "kernelspec": {
   "display_name": "Python 3",
   "language": "python",
   "name": "python3"
  },
  "language_info": {
   "codemirror_mode": {
    "name": "ipython",
    "version": 3
   },
   "file_extension": ".py",
   "mimetype": "text/x-python",
   "name": "python",
   "nbconvert_exporter": "python",
   "pygments_lexer": "ipython3",
   "version": "3.7.1"
  }
 },
 "nbformat": 4,
 "nbformat_minor": 4
}
